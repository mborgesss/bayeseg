{
 "cells": [
  {
   "cell_type": "markdown",
   "metadata": {},
   "source": [
    "## Testing the sequential segmentation algorithm on real data"
   ]
  },
  {
   "cell_type": "code",
   "execution_count": 1,
   "metadata": {},
   "outputs": [],
   "source": [
    "%matplotlib inline\n",
    "\n",
    "import sys\n",
    "sys.path.append('/home/paulo/github')\n",
    "\n",
    "import time\n",
    "import datetime\n",
    "\n",
    "import numpy as np\n",
    "import pandas as pd\n",
    "\n",
    "from OceanPod import OceanPod \n",
    "from SeqSeg.SeqSeg import SeqSeg\n",
    "\n",
    "wavfolder = '/home/paulo/github/bayeseg/Data/'\n",
    "savefolder = '/home/paulo/github/bayeseg/Output/'\n",
    "filelist = ['2015.01.30_02.02.56.wav', '2015.02.02_07.50.49.wav', '2015.02.08_11.26.39.wav']\n",
    "\n",
    "\n",
    "# Creates object to read wave files and segments\n",
    "op = OceanPod(wavfolder)"
   ]
  },
  {
   "cell_type": "markdown",
   "metadata": {},
   "source": [
    "## Stabilization of MCMC "
   ]
  },
  {
   "cell_type": "code",
   "execution_count": null,
   "metadata": {},
   "outputs": [],
   "source": [
    "mcsteps = [5000, 10000, 15000, 20000, 50000]\n",
    "\n",
    "alpha = 0.1\n",
    "beta = 0.0005\n",
    "\n",
    "# Pick a file\n",
    "file = filelist[0]\n",
    "\n",
    "nruns = 30\n",
    "\n",
    "ss = SeqSeg()\n",
    "fs, wave = op.readFile(file)\n",
    "ss.feed_data(wave)\n",
    "\n",
    "results = []\n",
    "for mciter in mcsteps:\n",
    "    ss.initialize(beta, alpha, mciter, mciter, nchains = 1)\n",
    "    resiter = []\n",
    "    for i in range(nruns):\n",
    "        t, tdur = ss.segments(minlen = 5000, res = 11025, normalize = False)\n",
    "        resiter.append([t, tdur])\n",
    "        print(\"MC steps = \" + str(mciter) + \", Nseg = \" + str(len(t)+1) + \", tdur = \" + str(tdur))\n",
    "    \n",
    "    results.append([mciter, np.mean([r[0] for r in resiter]), np.std([r[0] for r in resiter]), np.mean([r[1] for r in resiter]), np.std([r[1] for r in resiter])])"
   ]
  },
  {
   "cell_type": "markdown",
   "metadata": {},
   "source": [
    "## Applying the segmentation to the real signal files"
   ]
  },
  {
   "cell_type": "code",
   "execution_count": null,
   "metadata": {},
   "outputs": [],
   "source": [
    "# MCMC parameters\n",
    "\n",
    "mciter = 20000\n",
    "mcburn = 20000\n",
    "nchains = 1\n"
   ]
  },
  {
   "cell_type": "code",
   "execution_count": null,
   "metadata": {},
   "outputs": [],
   "source": [
    "# Beta grid\n",
    "\n",
    "betamin = 0.000001\n",
    "betamax = 0.00001\n",
    "betamin = 1.175e-05\n",
    "betamax = 1.175e-05\n",
    "nstep = 0\n",
    "bdelta = (betamax - betamin) / max(nstep, 1)\n",
    "betalist = [betamin + d*bdelta for d in range(nstep+1)]\n"
   ]
  },
  {
   "cell_type": "code",
   "execution_count": null,
   "metadata": {},
   "outputs": [],
   "source": [
    "# Alpha grid\n",
    "\n",
    "alphamin = 0.1\n",
    "alphamax = 0.1\n",
    "\n",
    "nstep = 0\n",
    "adelta = (alphamax - alphamin) / max(nstep, 1)\n",
    "alphalist = [alphamin + d*adelta for d in range(nstep+1)]"
   ]
  },
  {
   "cell_type": "code",
   "execution_count": null,
   "metadata": {},
   "outputs": [],
   "source": [
    "# Main loop\n",
    "ss = SeqSeg()\n",
    "normalize = True\n",
    "nruns = 1\n",
    "\n",
    "tresults = []\n",
    "results = []\n",
    "cont = 1\n",
    "total = len(filelist) * len(alphalist) * len(betalist)\n",
    "for file in filelist:\n",
    "    fs, wave = op.readFile(file)\n",
    "    ss.feed_data(wave)\n",
    "    for alpha in alphalist:\n",
    "        for beta in betalist:\n",
    "            ss.initialize(beta, alpha, mciter, mcburn, nchains)\n",
    "            resiter = []\n",
    "            for i in range(nruns):\n",
    "                t, tdur = ss.segments(minlen = 11025, res = 11025, normalize = normalize, verbose = False)\n",
    "                nseg = len(t) + 1\n",
    "                resiter.append([nseg, tdur])\n",
    "                tresults.append([file, t])\n",
    "            meannseg = np.mean([r[0] for r in resiter])\n",
    "            stdseg = np.std([r[0] for r in resiter])\n",
    "            tmean = np.mean([r[1] for r in resiter])\n",
    "            print(\"({:.4%})\".format(cont/total) + file + \", a = {:.2}\".format(alpha) + \", b = {:.6}\".format(beta) + \", Nseg = \" + str(meannseg) + \", Nsegstd = \" + str(stdseg) + \", t = {:.2}\".format(tmean))\n",
    "            cont = cont + 1\n",
    "            results.append([file, alpha, beta, meannseg, stdseg, tmean])\n",
    "            \n",
    "            \n",
    "    "
   ]
  }
 ],
 "metadata": {
  "kernelspec": {
   "display_name": "Python 3",
   "language": "python",
   "name": "python3"
  },
  "language_info": {
   "codemirror_mode": {
    "name": "ipython",
    "version": 3
   },
   "file_extension": ".py",
   "mimetype": "text/x-python",
   "name": "python",
   "nbconvert_exporter": "python",
   "pygments_lexer": "ipython3",
   "version": "3.5.2"
  }
 },
 "nbformat": 4,
 "nbformat_minor": 2
}
